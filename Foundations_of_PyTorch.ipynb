{
  "nbformat": 4,
  "nbformat_minor": 0,
  "metadata": {
    "colab": {
      "name": "Foundations of PyTorch.ipynb",
      "provenance": [],
      "collapsed_sections": [],
      "toc_visible": true
    },
    "kernelspec": {
      "name": "python3",
      "display_name": "Python 3"
    }
  },
  "cells": [
    {
      "cell_type": "markdown",
      "metadata": {
        "id": "O62COua4SKUg"
      },
      "source": [
        "### Contents\n",
        "\n",
        "\n",
        "1.   [Initialize Tensors](#initialize_tensors)\n",
        "2.   [Simple Tensor Operations](#tensor_operations)\n",
        "3.   [Basic Elementwise and Matrix Operations](#tensor_operations)\n",
        "4.   [Conversion between PyTorch and Numpy](#tensor_operations)\n",
        "\n"
      ]
    },
    {
      "cell_type": "markdown",
      "metadata": {
        "id": "xBB3OvzxEqoT"
      },
      "source": [
        "### Import torch library and print version"
      ]
    },
    {
      "cell_type": "code",
      "metadata": {
        "id": "DqOumiBPEDY2",
        "outputId": "a5d9c021-5f9a-4b0a-a46d-11ea2b7260a9",
        "colab": {
          "base_uri": "https://localhost:8080/"
        }
      },
      "source": [
        "import torch\n",
        "print(torch.__version__)"
      ],
      "execution_count": null,
      "outputs": [
        {
          "output_type": "stream",
          "text": [
            "1.6.0+cu101\n"
          ],
          "name": "stdout"
        }
      ]
    },
    {
      "cell_type": "markdown",
      "metadata": {
        "id": "lhEo-ZdNE7Vj"
      },
      "source": [
        "### Explore/change Default data type of torch\n",
        "\n",
        "PyTorch expect to default data type to be **float**. <br>\n",
        "**PyTorch support total 10 CPU and GPU tensor types.**\n",
        "https://pytorch.org/docs/stable/tensors.html"
      ]
    },
    {
      "cell_type": "code",
      "metadata": {
        "id": "pNRy1WO3EH6P",
        "outputId": "baab011e-70e1-4a34-be3e-6c3239d43c27",
        "colab": {
          "base_uri": "https://localhost:8080/",
          "height": 34
        }
      },
      "source": [
        "torch.get_default_dtype()"
      ],
      "execution_count": null,
      "outputs": [
        {
          "output_type": "execute_result",
          "data": {
            "text/plain": [
              "torch.float32"
            ]
          },
          "metadata": {
            "tags": []
          },
          "execution_count": 2
        }
      ]
    },
    {
      "cell_type": "code",
      "metadata": {
        "id": "dM8uWsvSE6ik",
        "outputId": "7d1085ce-022b-4516-ef95-a219891b2c64",
        "colab": {
          "base_uri": "https://localhost:8080/",
          "height": 34
        }
      },
      "source": [
        "torch.set_default_dtype(torch.float64)\n",
        "torch.get_default_dtype()"
      ],
      "execution_count": null,
      "outputs": [
        {
          "output_type": "execute_result",
          "data": {
            "text/plain": [
              "torch.float64"
            ]
          },
          "metadata": {
            "tags": []
          },
          "execution_count": 3
        }
      ]
    },
    {
      "cell_type": "markdown",
      "metadata": {
        "id": "qq4VrOe8H7tj"
      },
      "source": [
        "<a id=\"initialize_tensors\"></a>\n",
        "### Initialize Tensors <br>\n",
        "\n",
        "*  When we initialize a tensor,default data type will be data type that we set by `set_default_dtype` function\n",
        "\n"
      ]
    },
    {
      "cell_type": "code",
      "metadata": {
        "id": "-Lg1F5JUFJf0",
        "outputId": "281fa470-2da0-4fe9-85d7-5895aa623009",
        "colab": {
          "base_uri": "https://localhost:8080/",
          "height": 51
        }
      },
      "source": [
        "tensor_arr = torch.Tensor([[1,2,3],[4,5,6]])\n",
        "tensor_arr"
      ],
      "execution_count": null,
      "outputs": [
        {
          "output_type": "execute_result",
          "data": {
            "text/plain": [
              "tensor([[1., 2., 3.],\n",
              "        [4., 5., 6.]])"
            ]
          },
          "metadata": {
            "tags": []
          },
          "execution_count": 5
        }
      ]
    },
    {
      "cell_type": "markdown",
      "metadata": {
        "id": "7vOfIROGLIkx"
      },
      "source": [
        "\n",
        "\n",
        "*   Specify Tensor Type - we can specify required type when initialize the tensor using `type` function\n",
        "\n"
      ]
    },
    {
      "cell_type": "code",
      "metadata": {
        "id": "uYwFiCkzLPFG",
        "outputId": "b94c2d10-626b-4cd0-b5a5-c5aaf1ce7f18",
        "colab": {
          "base_uri": "https://localhost:8080/",
          "height": 34
        }
      },
      "source": [
        "tensor_with_type = torch.Tensor([5,3]).type(torch.IntTensor)\n",
        "tensor_with_type"
      ],
      "execution_count": null,
      "outputs": [
        {
          "output_type": "execute_result",
          "data": {
            "text/plain": [
              "tensor([5, 3], dtype=torch.int32)"
            ]
          },
          "metadata": {
            "tags": []
          },
          "execution_count": 9
        }
      ]
    },
    {
      "cell_type": "markdown",
      "metadata": {
        "id": "hQCY4CdoM4DZ"
      },
      "source": [
        "\n",
        "\n",
        "*   `ShortTensor` - Initialize 16bit Int tensors\n",
        "\n"
      ]
    },
    {
      "cell_type": "code",
      "metadata": {
        "id": "uKLq--5BNE1w",
        "outputId": "eb777554-56ac-40f4-eb57-535cfa2be158",
        "colab": {
          "base_uri": "https://localhost:8080/",
          "height": 34
        }
      },
      "source": [
        "tensor_short = torch.ShortTensor([1.0,2.0,3.0]).type(torch.half)\n",
        "tensor_short"
      ],
      "execution_count": null,
      "outputs": [
        {
          "output_type": "execute_result",
          "data": {
            "text/plain": [
              "tensor([1., 2., 3.], dtype=torch.float16)"
            ]
          },
          "metadata": {
            "tags": []
          },
          "execution_count": 12
        }
      ]
    },
    {
      "cell_type": "markdown",
      "metadata": {
        "id": "QlZDkmb1I0jw"
      },
      "source": [
        "\n",
        "\n",
        "*   `is_tensor` - check for **Tensor** instance \n",
        "*   `numel` - get number of elements of a tensor\n",
        "\n",
        "\n"
      ]
    },
    {
      "cell_type": "code",
      "metadata": {
        "id": "TlZFP6BTIJfm",
        "outputId": "6931225b-7a51-4884-9e49-7922a14f05d2",
        "colab": {
          "base_uri": "https://localhost:8080/",
          "height": 51
        }
      },
      "source": [
        "print(torch.is_tensor(tensor_arr))\n",
        "print(torch.numel(tensor_arr))"
      ],
      "execution_count": null,
      "outputs": [
        {
          "output_type": "stream",
          "text": [
            "True\n",
            "6\n"
          ],
          "name": "stdout"
        }
      ]
    },
    {
      "cell_type": "markdown",
      "metadata": {
        "id": "mdIJynpcJ-Qv"
      },
      "source": [
        "#### Uninitialize Tensor\n",
        "when you specify a Tensor object by given shape without values,PyTorch will allocate the memory for the tensor without intial values\n",
        "\n"
      ]
    },
    {
      "cell_type": "code",
      "metadata": {
        "id": "a_inr9yWJifu",
        "outputId": "7337df1d-b3b0-40ca-d300-56c3fce3643d",
        "colab": {
          "base_uri": "https://localhost:8080/",
          "height": 51
        }
      },
      "source": [
        "tensor_uninitialize = torch.Tensor(2,2)\n",
        "tensor_uninitialize"
      ],
      "execution_count": null,
      "outputs": [
        {
          "output_type": "execute_result",
          "data": {
            "text/plain": [
              "tensor([[4.1122e-316, 2.1008e-312],\n",
              "        [9.7612e-313, 2.1432e-312]])"
            ]
          },
          "metadata": {
            "tags": []
          },
          "execution_count": 7
        }
      ]
    },
    {
      "cell_type": "markdown",
      "metadata": {
        "id": "Iv-VekGDKwMJ"
      },
      "source": [
        "#### Random initialization\n",
        "Initialize a tensor with random values"
      ]
    },
    {
      "cell_type": "code",
      "metadata": {
        "id": "9a99o0boKm5e",
        "outputId": "eb8aa712-ce1f-4856-e310-088358fce624",
        "colab": {
          "base_uri": "https://localhost:8080/",
          "height": 51
        }
      },
      "source": [
        "tensor_random = torch.rand(2,2)\n",
        "tensor_random"
      ],
      "execution_count": null,
      "outputs": [
        {
          "output_type": "execute_result",
          "data": {
            "text/plain": [
              "tensor([[0.4450, 0.9153],\n",
              "        [0.4897, 0.1905]])"
            ]
          },
          "metadata": {
            "tags": []
          },
          "execution_count": 8
        }
      ]
    },
    {
      "cell_type": "markdown",
      "metadata": {
        "id": "Egh_d8ewOVJT"
      },
      "source": [
        "#### Initialize Tensor with a specific value\n",
        "\n",
        "\n",
        "*   `torch.full` - create tensor for given shape with `fill_value` argument\n",
        "\n"
      ]
    },
    {
      "cell_type": "code",
      "metadata": {
        "id": "AZIjIq3ZK9o6",
        "outputId": "2cda2b14-f71f-4680-a270-6ee2ac4d26d3",
        "colab": {
          "base_uri": "https://localhost:8080/",
          "height": 51
        }
      },
      "source": [
        "tensor_fill = torch.full((2,6),fill_value=10,dtype=torch.float32)\n",
        "tensor_fill"
      ],
      "execution_count": null,
      "outputs": [
        {
          "output_type": "execute_result",
          "data": {
            "text/plain": [
              "tensor([[10., 10., 10., 10., 10., 10.],\n",
              "        [10., 10., 10., 10., 10., 10.]], dtype=torch.float32)"
            ]
          },
          "metadata": {
            "tags": []
          },
          "execution_count": 14
        }
      ]
    },
    {
      "cell_type": "markdown",
      "metadata": {
        "id": "nWiTLpSWPQVV"
      },
      "source": [
        "\n",
        "\n",
        "*   `torch.ones` - create tensor with value 1\n",
        "*   `torch.zeros` - create tensor with value 0\n",
        "\n",
        "\n",
        "\n",
        "\n",
        "\n"
      ]
    },
    {
      "cell_type": "code",
      "metadata": {
        "id": "2odrkyi3O3_9",
        "outputId": "eb93dbc6-1a22-407a-bb9c-01b89cace673",
        "colab": {
          "base_uri": "https://localhost:8080/",
          "height": 51
        }
      },
      "source": [
        "tensor_ones = torch.ones(size=(2,4))\n",
        "tensor_ones"
      ],
      "execution_count": null,
      "outputs": [
        {
          "output_type": "execute_result",
          "data": {
            "text/plain": [
              "tensor([[1., 1., 1., 1.],\n",
              "        [1., 1., 1., 1.]])"
            ]
          },
          "metadata": {
            "tags": []
          },
          "execution_count": 18
        }
      ]
    },
    {
      "cell_type": "code",
      "metadata": {
        "id": "SDTFWEUZP0Io",
        "outputId": "a287c39c-8e41-41e4-aa02-37e96d82d631",
        "colab": {
          "base_uri": "https://localhost:8080/",
          "height": 102
        }
      },
      "source": [
        "tensor_zeros = torch.zeros(size=(5,5))\n",
        "tensor_zeros"
      ],
      "execution_count": null,
      "outputs": [
        {
          "output_type": "execute_result",
          "data": {
            "text/plain": [
              "tensor([[0., 0., 0., 0., 0.],\n",
              "        [0., 0., 0., 0., 0.],\n",
              "        [0., 0., 0., 0., 0.],\n",
              "        [0., 0., 0., 0., 0.],\n",
              "        [0., 0., 0., 0., 0.]])"
            ]
          },
          "metadata": {
            "tags": []
          },
          "execution_count": 21
        }
      ]
    },
    {
      "cell_type": "markdown",
      "metadata": {
        "id": "yeSQGL6BRNE9"
      },
      "source": [
        "\n",
        "\n",
        "*   `torch.zeros_like` - Initialize zeros tensor with same shape of an another tensor\n",
        "*   `torch.ones_like` - Initialize ones tensor with same shape of an another tensor\n",
        "\n"
      ]
    },
    {
      "cell_type": "code",
      "metadata": {
        "id": "ng1OZKo2QER3",
        "outputId": "75470702-e9bd-48fa-f54d-06179c26200a",
        "colab": {
          "base_uri": "https://localhost:8080/",
          "height": 51
        }
      },
      "source": [
        "zeros_like_of_ones_shape = torch.zeros_like(tensor_ones)\n",
        "zeros_like_of_ones_shape"
      ],
      "execution_count": null,
      "outputs": [
        {
          "output_type": "execute_result",
          "data": {
            "text/plain": [
              "tensor([[0., 0., 0., 0.],\n",
              "        [0., 0., 0., 0.]])"
            ]
          },
          "metadata": {
            "tags": []
          },
          "execution_count": 23
        }
      ]
    },
    {
      "cell_type": "code",
      "metadata": {
        "id": "8YnOmeSDRoCh",
        "outputId": "8f40cb78-b089-44b6-f9a5-a563d62b5e94",
        "colab": {
          "base_uri": "https://localhost:8080/",
          "height": 102
        }
      },
      "source": [
        "ones_like_of_zeros_shape = torch.ones_like(tensor_zeros)\n",
        "ones_like_of_zeros_shape"
      ],
      "execution_count": null,
      "outputs": [
        {
          "output_type": "execute_result",
          "data": {
            "text/plain": [
              "tensor([[1., 1., 1., 1., 1.],\n",
              "        [1., 1., 1., 1., 1.],\n",
              "        [1., 1., 1., 1., 1.],\n",
              "        [1., 1., 1., 1., 1.],\n",
              "        [1., 1., 1., 1., 1.]])"
            ]
          },
          "metadata": {
            "tags": []
          },
          "execution_count": 25
        }
      ]
    },
    {
      "cell_type": "markdown",
      "metadata": {
        "id": "wk2smjRpSL92"
      },
      "source": [
        "\n",
        "\n",
        "*   `torch.eye` - tensor with ones on the diagonal and zeros elsewhere\n",
        "\n"
      ]
    },
    {
      "cell_type": "code",
      "metadata": {
        "id": "GZcrXfwrRwOq",
        "outputId": "a8316705-2f88-4276-b27e-c6760e5ea47d",
        "colab": {
          "base_uri": "https://localhost:8080/",
          "height": 102
        }
      },
      "source": [
        "tensor_eye = torch.eye(5)\n",
        "tensor_eye"
      ],
      "execution_count": null,
      "outputs": [
        {
          "output_type": "execute_result",
          "data": {
            "text/plain": [
              "tensor([[1., 0., 0., 0., 0.],\n",
              "        [0., 1., 0., 0., 0.],\n",
              "        [0., 0., 1., 0., 0.],\n",
              "        [0., 0., 0., 1., 0.],\n",
              "        [0., 0., 0., 0., 1.]])"
            ]
          },
          "metadata": {
            "tags": []
          },
          "execution_count": 2
        }
      ]
    },
    {
      "cell_type": "markdown",
      "metadata": {
        "id": "UsmxbRYb6xCn"
      },
      "source": [
        "\n",
        "\n",
        "*   `torch.nonzero` - find non zero indicies of a given tensor\n",
        "\n"
      ]
    },
    {
      "cell_type": "code",
      "metadata": {
        "id": "OeKRuTjiScL0",
        "outputId": "10d8755b-de19-442f-b074-9aab9b6b5f6d",
        "colab": {
          "base_uri": "https://localhost:8080/",
          "height": 102
        }
      },
      "source": [
        "non_zero = torch.nonzero(tensor_eye,as_tuple=False)\n",
        "non_zero"
      ],
      "execution_count": null,
      "outputs": [
        {
          "output_type": "execute_result",
          "data": {
            "text/plain": [
              "tensor([[0, 0],\n",
              "        [1, 1],\n",
              "        [2, 2],\n",
              "        [3, 3],\n",
              "        [4, 4]])"
            ]
          },
          "metadata": {
            "tags": []
          },
          "execution_count": 6
        }
      ]
    },
    {
      "cell_type": "markdown",
      "metadata": {
        "id": "0Da4kh8k9HjO"
      },
      "source": [
        "\n",
        "\n",
        "*   sparse tensor\n",
        "\n"
      ]
    },
    {
      "cell_type": "markdown",
      "metadata": {
        "id": "2JuaPOSC9R3p"
      },
      "source": [
        "<a id=\"tensor_operations\"></a>\n",
        "### Simple Tensor Operations"
      ]
    },
    {
      "cell_type": "code",
      "metadata": {
        "id": "CK7BA-KH9VrF",
        "outputId": "8ceb0691-5151-4487-ba01-2b14276ac1e7",
        "colab": {
          "base_uri": "https://localhost:8080/",
          "height": 51
        }
      },
      "source": [
        "init_tensor = torch.rand(2,3)\n",
        "init_tensor"
      ],
      "execution_count": null,
      "outputs": [
        {
          "output_type": "execute_result",
          "data": {
            "text/plain": [
              "tensor([[0.3179, 0.9527, 0.8980],\n",
              "        [0.3197, 0.8681, 0.0358]])"
            ]
          },
          "metadata": {
            "tags": []
          },
          "execution_count": 2
        }
      ]
    },
    {
      "cell_type": "markdown",
      "metadata": {
        "id": "IQncfMLEK6bE"
      },
      "source": [
        "#### Inplace Operations\n",
        "Operations that modify the tensor in-place have an \"_\" suffix and other functions make a copy of modified items.\n",
        "\n",
        "\n",
        "*  ` fill_` function fill tensor with given value inplace\n",
        "*   `add_` function add given value to all elements in the tensor in place\n",
        "*   `sqrt_` function calculate square root of all elements in place\n",
        "\n",
        "\n",
        "\n",
        "\n",
        "\n"
      ]
    },
    {
      "cell_type": "code",
      "metadata": {
        "id": "oJ3fe0_zvY-3",
        "outputId": "32582fb4-ada3-4e18-dfd0-8e45e8f735b7",
        "colab": {
          "base_uri": "https://localhost:8080/",
          "height": 51
        }
      },
      "source": [
        "init_tensor.fill_(10)\n",
        "init_tensor"
      ],
      "execution_count": null,
      "outputs": [
        {
          "output_type": "execute_result",
          "data": {
            "text/plain": [
              "tensor([[10., 10., 10.],\n",
              "        [10., 10., 10.]])"
            ]
          },
          "metadata": {
            "tags": []
          },
          "execution_count": 3
        }
      ]
    },
    {
      "cell_type": "code",
      "metadata": {
        "id": "LPtNJNa1UfH0",
        "outputId": "b63ef43c-598d-4849-c5cd-4d9aad7662be",
        "colab": {
          "base_uri": "https://localhost:8080/",
          "height": 51
        }
      },
      "source": [
        "init_tensor.add_(5)\n",
        "init_tensor"
      ],
      "execution_count": null,
      "outputs": [
        {
          "output_type": "execute_result",
          "data": {
            "text/plain": [
              "tensor([[15., 15., 15.],\n",
              "        [15., 15., 15.]])"
            ]
          },
          "metadata": {
            "tags": []
          },
          "execution_count": 4
        }
      ]
    },
    {
      "cell_type": "code",
      "metadata": {
        "id": "5rU5N2qqU0G-",
        "outputId": "9a691cb8-f4f0-4144-9968-118132c33c15",
        "colab": {
          "base_uri": "https://localhost:8080/",
          "height": 51
        }
      },
      "source": [
        "init_tensor.sqrt_()\n",
        "init_tensor"
      ],
      "execution_count": null,
      "outputs": [
        {
          "output_type": "execute_result",
          "data": {
            "text/plain": [
              "tensor([[3.8730, 3.8730, 3.8730],\n",
              "        [3.8730, 3.8730, 3.8730]])"
            ]
          },
          "metadata": {
            "tags": []
          },
          "execution_count": 5
        }
      ]
    },
    {
      "cell_type": "markdown",
      "metadata": {
        "id": "Db1jC97wW_Cb"
      },
      "source": [
        "#### Generate/split/concatenation\n",
        "\n",
        "*   `linespace` function generate evenly spaced numbers in given range\n",
        "*   `chunk` function chunk tensor to a given number of parts\n",
        "* `cat` function concatenate tensors in a given dimention\n"
      ]
    },
    {
      "cell_type": "code",
      "metadata": {
        "id": "4J5zOIipVcMj",
        "outputId": "57e9e9a1-a03c-46ae-a67a-291551e77172",
        "colab": {
          "base_uri": "https://localhost:8080/",
          "height": 51
        }
      },
      "source": [
        "x = torch.linspace(start=0.1,end=10.0,steps=15)\n",
        "x"
      ],
      "execution_count": null,
      "outputs": [
        {
          "output_type": "execute_result",
          "data": {
            "text/plain": [
              "tensor([ 0.1000,  0.8071,  1.5143,  2.2214,  2.9286,  3.6357,  4.3429,  5.0500,\n",
              "         5.7571,  6.4643,  7.1714,  7.8786,  8.5857,  9.2929, 10.0000])"
            ]
          },
          "metadata": {
            "tags": []
          },
          "execution_count": 8
        }
      ]
    },
    {
      "cell_type": "code",
      "metadata": {
        "id": "zlJgzK7KW7bR",
        "outputId": "a88899de-2763-4b92-ec32-67559a4c2c40",
        "colab": {
          "base_uri": "https://localhost:8080/",
          "height": 68
        }
      },
      "source": [
        "tensor_chunks = torch.chunk(x,3,0)\n",
        "tensor_chunks"
      ],
      "execution_count": null,
      "outputs": [
        {
          "output_type": "execute_result",
          "data": {
            "text/plain": [
              "(tensor([0.1000, 0.8071, 1.5143, 2.2214, 2.9286]),\n",
              " tensor([3.6357, 4.3429, 5.0500, 5.7571, 6.4643]),\n",
              " tensor([ 7.1714,  7.8786,  8.5857,  9.2929, 10.0000]))"
            ]
          },
          "metadata": {
            "tags": []
          },
          "execution_count": 9
        }
      ]
    },
    {
      "cell_type": "code",
      "metadata": {
        "id": "zE9SZySlXh3f",
        "outputId": "7994d46a-69a4-4893-cfbf-acba759db064",
        "colab": {
          "base_uri": "https://localhost:8080/",
          "height": 51
        }
      },
      "source": [
        "tensor_1 = tensor_chunks[0]\n",
        "tensor_2 = tensor_chunks[1]\n",
        "tensor_3 = tensor_chunks[2]\n",
        "\n",
        "tensor_concat = torch.cat((tensor_1,tensor_2,tensor_3),0)\n",
        "tensor_concat"
      ],
      "execution_count": null,
      "outputs": [
        {
          "output_type": "execute_result",
          "data": {
            "text/plain": [
              "tensor([ 0.1000,  0.8071,  1.5143,  2.2214,  2.9286,  3.6357,  4.3429,  5.0500,\n",
              "         5.7571,  6.4643,  7.1714,  7.8786,  8.5857,  9.2929, 10.0000])"
            ]
          },
          "metadata": {
            "tags": []
          },
          "execution_count": 12
        }
      ]
    },
    {
      "cell_type": "markdown",
      "metadata": {
        "id": "CGzdCLwtZGMH"
      },
      "source": [
        "#### Size/Shape/View\n",
        "\n",
        "\n",
        "*   `size` function returns size of the tensor along each dimention\n",
        "*   `shape` attribute returns shape of the tensor \n",
        "\n",
        "*   `view` function returns view of a tensor in a given different shape\n",
        "\n"
      ]
    },
    {
      "cell_type": "code",
      "metadata": {
        "id": "0Xg18O0fYE2v",
        "outputId": "2f98ae57-e954-4cdf-887f-6e67b8cc16cf",
        "colab": {
          "base_uri": "https://localhost:8080/",
          "height": 68
        }
      },
      "source": [
        "random_tensor = torch.Tensor([[10,8,2],[40,5,6],[13,11,3]])\n",
        "random_tensor"
      ],
      "execution_count": null,
      "outputs": [
        {
          "output_type": "execute_result",
          "data": {
            "text/plain": [
              "tensor([[10.,  8.,  2.],\n",
              "        [40.,  5.,  6.],\n",
              "        [13., 11.,  3.]])"
            ]
          },
          "metadata": {
            "tags": []
          },
          "execution_count": 27
        }
      ]
    },
    {
      "cell_type": "code",
      "metadata": {
        "id": "r8XVTjVIZbtd",
        "outputId": "bed96c1e-8f1a-4b2b-a880-301c84c0d254",
        "colab": {
          "base_uri": "https://localhost:8080/",
          "height": 34
        }
      },
      "source": [
        "random_tensor.size()"
      ],
      "execution_count": null,
      "outputs": [
        {
          "output_type": "execute_result",
          "data": {
            "text/plain": [
              "torch.Size([3, 3])"
            ]
          },
          "metadata": {
            "tags": []
          },
          "execution_count": 28
        }
      ]
    },
    {
      "cell_type": "code",
      "metadata": {
        "id": "HNEzPyp8dN_E",
        "outputId": "56950e7f-5e78-4993-e7ac-3a7cae3a42c3",
        "colab": {
          "base_uri": "https://localhost:8080/",
          "height": 34
        }
      },
      "source": [
        "random_tensor.shape"
      ],
      "execution_count": null,
      "outputs": [
        {
          "output_type": "execute_result",
          "data": {
            "text/plain": [
              "torch.Size([3, 3])"
            ]
          },
          "metadata": {
            "tags": []
          },
          "execution_count": 34
        }
      ]
    },
    {
      "cell_type": "code",
      "metadata": {
        "id": "xsCm0eCpZmP0",
        "outputId": "54b31729-185b-4585-cc5f-48ef09f6ed0f",
        "colab": {
          "base_uri": "https://localhost:8080/",
          "height": 34
        }
      },
      "source": [
        "resized_tensor = random_tensor.view(9)\n",
        "resized_tensor"
      ],
      "execution_count": null,
      "outputs": [
        {
          "output_type": "execute_result",
          "data": {
            "text/plain": [
              "tensor([10.,  8.,  2., 40.,  5.,  6., 13., 11.,  3.])"
            ]
          },
          "metadata": {
            "tags": []
          },
          "execution_count": 29
        }
      ]
    },
    {
      "cell_type": "markdown",
      "metadata": {
        "id": "XNxmHSREaf4W"
      },
      "source": [
        "#### Access/Modify tensor values\n",
        "\n",
        "\n",
        "*   We can access tensor values using indexs or array slicing\n",
        "*   We can modify tensor values by accessing indexes and assign new values to it\n",
        "\n"
      ]
    },
    {
      "cell_type": "code",
      "metadata": {
        "id": "-5eZaM6TZ2gA",
        "outputId": "2d5c3d7e-9e7a-4917-d35e-eaf52a63e293",
        "colab": {
          "base_uri": "https://localhost:8080/",
          "height": 51
        }
      },
      "source": [
        "# get value of 1st row 3rd column\n",
        "print(random_tensor[0,2])\n",
        "\n",
        "# get value of 2nd row 2nd column\n",
        "print(random_tensor[1,1])"
      ],
      "execution_count": null,
      "outputs": [
        {
          "output_type": "stream",
          "text": [
            "tensor(2.)\n",
            "tensor(5.)\n"
          ],
          "name": "stdout"
        }
      ]
    },
    {
      "cell_type": "code",
      "metadata": {
        "id": "ZIf6put0a2gG",
        "outputId": "e481f774-6531-4de9-86d8-a4c5876851d6",
        "colab": {
          "base_uri": "https://localhost:8080/",
          "height": 51
        }
      },
      "source": [
        "# get all value from 2nd row and 2nd column\n",
        "print(random_tensor[1:,1:])"
      ],
      "execution_count": null,
      "outputs": [
        {
          "output_type": "stream",
          "text": [
            "tensor([[ 5.,  6.],\n",
            "        [11.,  3.]])\n"
          ],
          "name": "stdout"
        }
      ]
    },
    {
      "cell_type": "code",
      "metadata": {
        "id": "liYX42sBbXN5",
        "outputId": "31064b1f-2e1f-4db6-d444-e59e3531e91a",
        "colab": {
          "base_uri": "https://localhost:8080/",
          "height": 68
        }
      },
      "source": [
        "random_tensor[2,2] = 100\n",
        "random_tensor"
      ],
      "execution_count": null,
      "outputs": [
        {
          "output_type": "execute_result",
          "data": {
            "text/plain": [
              "tensor([[ 10.,   8.,   2.],\n",
              "        [ 40.,   5.,   6.],\n",
              "        [ 13.,  11., 100.]])"
            ]
          },
          "metadata": {
            "tags": []
          },
          "execution_count": 32
        }
      ]
    },
    {
      "cell_type": "code",
      "metadata": {
        "id": "b7NXNqy9cQ4e",
        "outputId": "e5b4c9b4-3751-40df-82c1-6293cda3c477",
        "colab": {
          "base_uri": "https://localhost:8080/",
          "height": 68
        }
      },
      "source": [
        "random_tensor[1,1]=500\n",
        "random_tensor"
      ],
      "execution_count": null,
      "outputs": [
        {
          "output_type": "execute_result",
          "data": {
            "text/plain": [
              "tensor([[ 10.,   8.,   2.],\n",
              "        [ 40., 500.,   6.],\n",
              "        [ 13.,  11., 100.]])"
            ]
          },
          "metadata": {
            "tags": []
          },
          "execution_count": 33
        }
      ]
    },
    {
      "cell_type": "markdown",
      "metadata": {
        "id": "zhCC5pbzlstY"
      },
      "source": [
        "#### Squeeze/Unsqueeze and Transpose\n",
        "\n",
        "\n",
        "*   `unsqueeze` function returns a new tensor with a dimension of size one inserted at the specified position\n",
        "*   `squeeze` function returns a tensor with all the dimensions of input of size 1 removed.\n",
        "* `transpose` returns transposed version of tensor\n"
      ]
    },
    {
      "cell_type": "code",
      "metadata": {
        "id": "WYfGal3_cW_5",
        "outputId": "1e84641f-c680-4a93-eba7-9893e46f1a17",
        "colab": {
          "base_uri": "https://localhost:8080/",
          "height": 51
        }
      },
      "source": [
        "print(\"Before shape \",random_tensor.shape)\n",
        "tensor_unsqueeze = torch.unsqueeze(random_tensor,2)\n",
        "print(\"After shape \",tensor_unsqueeze.shape)"
      ],
      "execution_count": null,
      "outputs": [
        {
          "output_type": "stream",
          "text": [
            "Before shape  torch.Size([3, 3])\n",
            "After shape  torch.Size([3, 3, 1])\n"
          ],
          "name": "stdout"
        }
      ]
    },
    {
      "cell_type": "code",
      "metadata": {
        "id": "S6mI4LK0l-2u",
        "outputId": "7bc9422c-45dd-4b26-d8e2-30d02abe5abc",
        "colab": {
          "base_uri": "https://localhost:8080/",
          "height": 51
        }
      },
      "source": [
        "print(\"Before shape \",tensor_unsqueeze.shape)\n",
        "tensor_squeeze = torch.squeeze(tensor_unsqueeze)\n",
        "print(\"After shape \",tensor_squeeze.shape)"
      ],
      "execution_count": null,
      "outputs": [
        {
          "output_type": "stream",
          "text": [
            "Before shape  torch.Size([3, 3, 1])\n",
            "After shape  torch.Size([3, 3])\n"
          ],
          "name": "stdout"
        }
      ]
    },
    {
      "cell_type": "code",
      "metadata": {
        "id": "Dr7JWalImKZW",
        "outputId": "4a9c3d3f-f783-4260-e000-49d53ceff2bc",
        "colab": {
          "base_uri": "https://localhost:8080/",
          "height": 68
        }
      },
      "source": [
        "tensor_transposed = torch.transpose(random_tensor,0,1)\n",
        "tensor_transposed"
      ],
      "execution_count": null,
      "outputs": [
        {
          "output_type": "execute_result",
          "data": {
            "text/plain": [
              "tensor([[ 10.,  40.,  13.],\n",
              "        [  8., 500.,  11.],\n",
              "        [  2.,   6., 100.]])"
            ]
          },
          "metadata": {
            "tags": []
          },
          "execution_count": 43
        }
      ]
    },
    {
      "cell_type": "code",
      "metadata": {
        "id": "-kCGybs8n07c",
        "outputId": "2ceb982a-4295-4021-ce5b-a34aa6139b98",
        "colab": {
          "base_uri": "https://localhost:8080/",
          "height": 68
        }
      },
      "source": [
        "random_tensor"
      ],
      "execution_count": null,
      "outputs": [
        {
          "output_type": "execute_result",
          "data": {
            "text/plain": [
              "tensor([[ 10.,   8.,   2.],\n",
              "        [ 40., 500.,   6.],\n",
              "        [ 13.,  11., 100.]])"
            ]
          },
          "metadata": {
            "tags": []
          },
          "execution_count": 44
        }
      ]
    },
    {
      "cell_type": "markdown",
      "metadata": {
        "id": "TjDpM4bMFo-L"
      },
      "source": [
        "### Elementwise and Matrix Operations"
      ]
    },
    {
      "cell_type": "markdown",
      "metadata": {
        "id": "X0JLQgjluEtS"
      },
      "source": [
        "\n",
        "\n",
        "*   `sort` function sort tensor and indicies in a given axis\n",
        "*   `abs` function create absolute values of a given tensor\n",
        "* `clamp` clamp all elements in to range of min and max\n",
        "* `argmax` function retuends indicies of largest element in a given dimention\n",
        "* `argmin` function returns indicies of  smallest element in a given dimention\n",
        "\n",
        "\n",
        "\n"
      ]
    },
    {
      "cell_type": "code",
      "metadata": {
        "id": "HsoEi8roFvAX"
      },
      "source": [
        "random_tensor = torch.Tensor([[10,8,2],[40,5,6],[13,11,3]])"
      ],
      "execution_count": null,
      "outputs": []
    },
    {
      "cell_type": "code",
      "metadata": {
        "id": "-05khzWtuTnW",
        "outputId": "333012df-f676-46a0-88d9-00abc9b5766f",
        "colab": {
          "base_uri": "https://localhost:8080/",
          "height": 119
        }
      },
      "source": [
        "sorted_tensor,sorted_indicies = torch.sort(random_tensor)\n",
        "print(sorted_tensor)\n",
        "print(sorted_indicies)"
      ],
      "execution_count": null,
      "outputs": [
        {
          "output_type": "stream",
          "text": [
            "tensor([[ 2.,  8., 10.],\n",
            "        [ 5.,  6., 40.],\n",
            "        [ 3., 11., 13.]])\n",
            "tensor([[2, 1, 0],\n",
            "        [1, 2, 0],\n",
            "        [2, 1, 0]])\n"
          ],
          "name": "stdout"
        }
      ]
    },
    {
      "cell_type": "code",
      "metadata": {
        "id": "UHzOLMeRufUx",
        "outputId": "d78b44a7-db7d-47eb-ea13-94ca09ebeba2",
        "colab": {
          "base_uri": "https://localhost:8080/",
          "height": 34
        }
      },
      "source": [
        "tensor_float = torch.FloatTensor([-2.42,-3.5,10,11.2])\n",
        "tensor_float"
      ],
      "execution_count": null,
      "outputs": [
        {
          "output_type": "execute_result",
          "data": {
            "text/plain": [
              "tensor([-2.4200, -3.5000, 10.0000, 11.2000])"
            ]
          },
          "metadata": {
            "tags": []
          },
          "execution_count": 26
        }
      ]
    },
    {
      "cell_type": "code",
      "metadata": {
        "id": "YMRCYAe8yBo8",
        "outputId": "fac150ed-3e04-4dd1-d716-77fe6d0e1147",
        "colab": {
          "base_uri": "https://localhost:8080/",
          "height": 34
        }
      },
      "source": [
        "tensor_abs = torch.abs(tensor_float)\n",
        "tensor_abs"
      ],
      "execution_count": null,
      "outputs": [
        {
          "output_type": "execute_result",
          "data": {
            "text/plain": [
              "tensor([ 2.4200,  3.5000, 10.0000, 11.2000])"
            ]
          },
          "metadata": {
            "tags": []
          },
          "execution_count": 27
        }
      ]
    },
    {
      "cell_type": "code",
      "metadata": {
        "id": "hNuSffaT1GOK",
        "outputId": "ab5a6c4a-9d42-4646-e9e2-e8c27b17e210",
        "colab": {
          "base_uri": "https://localhost:8080/",
          "height": 68
        }
      },
      "source": [
        "clamp_tensor = torch.clamp(random_tensor,min=3,max=10)\n",
        "clamp_tensor"
      ],
      "execution_count": null,
      "outputs": [
        {
          "output_type": "execute_result",
          "data": {
            "text/plain": [
              "tensor([[10.,  8.,  3.],\n",
              "        [10.,  5.,  6.],\n",
              "        [10., 10.,  3.]])"
            ]
          },
          "metadata": {
            "tags": []
          },
          "execution_count": 29
        }
      ]
    },
    {
      "cell_type": "markdown",
      "metadata": {
        "id": "-tLE7fzlyViH"
      },
      "source": [
        "#### basic mathematical operations\n",
        "\n",
        "*   `add` function or ` +` for elementwise addition\n",
        "*   `div` function or `/` for elementwise division\n",
        "* `mul` or `*` for elementwise multipication\n",
        "* `sub` or `-` for elementwise substraction\n",
        "\n"
      ]
    },
    {
      "cell_type": "code",
      "metadata": {
        "id": "lw_AXhzSyHFa"
      },
      "source": [
        "tensor_1 = torch.randn(2,3)\n",
        "tensor_2 = torch.randn(2,3)"
      ],
      "execution_count": null,
      "outputs": []
    },
    {
      "cell_type": "code",
      "metadata": {
        "id": "nsMOXu7kyp-r",
        "outputId": "fe22611a-c9b5-4984-e52b-b5d83c1f7912",
        "colab": {
          "base_uri": "https://localhost:8080/",
          "height": 51
        }
      },
      "source": [
        "add1 = tensor_1+tensor_2\n",
        "add1"
      ],
      "execution_count": null,
      "outputs": [
        {
          "output_type": "execute_result",
          "data": {
            "text/plain": [
              "tensor([[ 0.5891, -0.6282,  0.2012],\n",
              "        [ 1.7793,  0.8440, -2.2393]])"
            ]
          },
          "metadata": {
            "tags": []
          },
          "execution_count": 12
        }
      ]
    },
    {
      "cell_type": "code",
      "metadata": {
        "id": "m3AssjwJywE2",
        "outputId": "a2882130-a929-496b-c601-3473383991f0",
        "colab": {
          "base_uri": "https://localhost:8080/",
          "height": 51
        }
      },
      "source": [
        "add2 = torch.add(tensor_1,tensor_2)\n",
        "add2"
      ],
      "execution_count": null,
      "outputs": [
        {
          "output_type": "execute_result",
          "data": {
            "text/plain": [
              "tensor([[ 0.5891, -0.6282,  0.2012],\n",
              "        [ 1.7793,  0.8440, -2.2393]])"
            ]
          },
          "metadata": {
            "tags": []
          },
          "execution_count": 13
        }
      ]
    },
    {
      "cell_type": "code",
      "metadata": {
        "id": "KUE8i4mDy2QD",
        "outputId": "9b332c17-082c-4ac8-d6b4-292b049a2019",
        "colab": {
          "base_uri": "https://localhost:8080/",
          "height": 51
        }
      },
      "source": [
        "tensor_3 = torch.randn(2,3)\n",
        "tensor_3"
      ],
      "execution_count": null,
      "outputs": [
        {
          "output_type": "execute_result",
          "data": {
            "text/plain": [
              "tensor([[-0.3547, -0.3156,  1.6132],\n",
              "        [ 0.2720, -0.5786, -0.9567]])"
            ]
          },
          "metadata": {
            "tags": []
          },
          "execution_count": 16
        }
      ]
    },
    {
      "cell_type": "code",
      "metadata": {
        "id": "PmHARUvszFF4",
        "outputId": "4f53e2ea-04bc-4acd-803e-5fb73ccbf91a",
        "colab": {
          "base_uri": "https://localhost:8080/",
          "height": 51
        }
      },
      "source": [
        "div1 = tensor_1 / tensor_3\n",
        "div1"
      ],
      "execution_count": null,
      "outputs": [
        {
          "output_type": "execute_result",
          "data": {
            "text/plain": [
              "tensor([[ 0.5257,  2.6509, -0.1255],\n",
              "        [ 3.5270, -0.8841,  1.8236]])"
            ]
          },
          "metadata": {
            "tags": []
          },
          "execution_count": 17
        }
      ]
    },
    {
      "cell_type": "code",
      "metadata": {
        "id": "bxwHA-73zYQ1",
        "outputId": "fb538ce2-c9c8-40bb-fa03-1428c820d9d1",
        "colab": {
          "base_uri": "https://localhost:8080/",
          "height": 51
        }
      },
      "source": [
        "div2 = torch.div(tensor_1,tensor_3)\n",
        "div2"
      ],
      "execution_count": null,
      "outputs": [
        {
          "output_type": "execute_result",
          "data": {
            "text/plain": [
              "tensor([[ 0.5257,  2.6509, -0.1255],\n",
              "        [ 3.5270, -0.8841,  1.8236]])"
            ]
          },
          "metadata": {
            "tags": []
          },
          "execution_count": 18
        }
      ]
    },
    {
      "cell_type": "code",
      "metadata": {
        "id": "FdHiC-lRzebM",
        "outputId": "3ed31bbe-4b93-4549-ce38-d183c10e5a32",
        "colab": {
          "base_uri": "https://localhost:8080/",
          "height": 51
        }
      },
      "source": [
        "mul1 = tensor_1*tensor_2\n",
        "mul1"
      ],
      "execution_count": null,
      "outputs": [
        {
          "output_type": "execute_result",
          "data": {
            "text/plain": [
              "tensor([[-0.1446, -0.1742, -0.0817],\n",
              "        [ 0.7866,  0.1700,  0.8632]])"
            ]
          },
          "metadata": {
            "tags": []
          },
          "execution_count": 19
        }
      ]
    },
    {
      "cell_type": "code",
      "metadata": {
        "id": "I_a2vv3Ezybz",
        "outputId": "27e6e474-725a-4461-ae01-ce00e132f9ef",
        "colab": {
          "base_uri": "https://localhost:8080/",
          "height": 51
        }
      },
      "source": [
        "mul2 = torch.mul(tensor_1,tensor_2)\n",
        "mul2"
      ],
      "execution_count": null,
      "outputs": [
        {
          "output_type": "execute_result",
          "data": {
            "text/plain": [
              "tensor([[-0.1446, -0.1742, -0.0817],\n",
              "        [ 0.7866,  0.1700,  0.8632]])"
            ]
          },
          "metadata": {
            "tags": []
          },
          "execution_count": 20
        }
      ]
    },
    {
      "cell_type": "code",
      "metadata": {
        "id": "dbjGNYFp0apx",
        "outputId": "dceec580-abb5-4a67-b762-4ef6e1cd8a10",
        "colab": {
          "base_uri": "https://localhost:8080/",
          "height": 51
        }
      },
      "source": [
        "sub1 = tensor_1 - tensor_2\n",
        "sub1"
      ],
      "execution_count": null,
      "outputs": [
        {
          "output_type": "execute_result",
          "data": {
            "text/plain": [
              "tensor([[-0.9620, -1.0448, -0.6061],\n",
              "        [ 0.1396,  0.1792, -1.2498]])"
            ]
          },
          "metadata": {
            "tags": []
          },
          "execution_count": 22
        }
      ]
    },
    {
      "cell_type": "code",
      "metadata": {
        "id": "CMZ2QO8Sz30t",
        "outputId": "194f4334-bf48-4123-cc6b-931c8741930c",
        "colab": {
          "base_uri": "https://localhost:8080/",
          "height": 51
        }
      },
      "source": [
        "sub2 = torch.sub(tensor_1,tensor_2)\n",
        "sub2"
      ],
      "execution_count": null,
      "outputs": [
        {
          "output_type": "execute_result",
          "data": {
            "text/plain": [
              "tensor([[-1.1651, -3.0757, -2.3863],\n",
              "        [-0.6818, -0.2458,  1.3192]])"
            ]
          },
          "metadata": {
            "tags": []
          },
          "execution_count": 4
        }
      ]
    },
    {
      "cell_type": "code",
      "metadata": {
        "id": "A_Q5hDT_4BR1",
        "outputId": "2cd02dbc-31d3-4af4-fe87-ab0de5734a67",
        "colab": {
          "base_uri": "https://localhost:8080/",
          "height": 51
        }
      },
      "source": [
        "#largest value indicies in row wise (dim=1)\n",
        "argmax = torch.argmax(sub2,dim=1)\n",
        "print(\"Largest value indicies row wise\",argmax)\n",
        "\n",
        "argmax = torch.argmax(sub2,dim=0)\n",
        "print(\"Largest value indicies column wise\",argmax)"
      ],
      "execution_count": null,
      "outputs": [
        {
          "output_type": "stream",
          "text": [
            "Largest value indicies row wise tensor([0, 2])\n",
            "Largest value indicies column wise tensor([1, 1, 1])\n"
          ],
          "name": "stdout"
        }
      ]
    },
    {
      "cell_type": "code",
      "metadata": {
        "id": "NGqInLq3zN9L",
        "outputId": "7bc96728-9c80-480e-da70-67dd634661d0",
        "colab": {
          "base_uri": "https://localhost:8080/",
          "height": 51
        }
      },
      "source": [
        "#largest value indicies in row wise (dim=1)\n",
        "argmin = torch.argmin(sub2,dim=1)\n",
        "print(\"Smallest value indicies row wise\",argmin)\n",
        "\n",
        "argmin = torch.argmax(sub2,dim=0)\n",
        "print(\"Smallest value indicies column wise\",argmin)"
      ],
      "execution_count": null,
      "outputs": [
        {
          "output_type": "stream",
          "text": [
            "Smallest value indicies row wise tensor([1, 0])\n",
            "Smallest value indicies column wise tensor([1, 1, 1])\n"
          ],
          "name": "stdout"
        }
      ]
    },
    {
      "cell_type": "markdown",
      "metadata": {
        "id": "qmXQsHQC1dre"
      },
      "source": [
        "#### Basic matrix operations\n",
        "\n",
        "\n",
        "*   `dot` function perform  dot product\n",
        "*   `mv` function multiply matrix by the corresponding vector\n",
        "* `mm` function multiply matrix by matrix\n",
        "\n"
      ]
    },
    {
      "cell_type": "code",
      "metadata": {
        "id": "lNnXFQ-30Z89"
      },
      "source": [
        "t1 = torch.Tensor([1,2])\n",
        "t2 = torch.Tensor([10,20])"
      ],
      "execution_count": null,
      "outputs": []
    },
    {
      "cell_type": "code",
      "metadata": {
        "id": "mhqc9f7E17-Z",
        "outputId": "a0146d5f-9710-4c02-8462-3759e56096b8",
        "colab": {
          "base_uri": "https://localhost:8080/",
          "height": 34
        }
      },
      "source": [
        "dot_product = torch.dot(t1,t2)\n",
        "dot_product"
      ],
      "execution_count": null,
      "outputs": [
        {
          "output_type": "execute_result",
          "data": {
            "text/plain": [
              "tensor(50.)"
            ]
          },
          "metadata": {
            "tags": []
          },
          "execution_count": 31
        }
      ]
    },
    {
      "cell_type": "code",
      "metadata": {
        "id": "y1XAdv9G2BQZ"
      },
      "source": [
        "matrix = torch.Tensor([[1,2,3],\n",
        "                       [4,5,6]])\n",
        "vector = torch.Tensor([0,1,2])"
      ],
      "execution_count": null,
      "outputs": []
    },
    {
      "cell_type": "code",
      "metadata": {
        "id": "sXxJ_U422hvq",
        "outputId": "c30d01c5-6795-47b7-ba31-4b41db74de76",
        "colab": {
          "base_uri": "https://localhost:8080/",
          "height": 34
        }
      },
      "source": [
        "matrix_vector = torch.mv(matrix,vector)\n",
        "matrix_vector"
      ],
      "execution_count": null,
      "outputs": [
        {
          "output_type": "execute_result",
          "data": {
            "text/plain": [
              "tensor([ 8., 17.])"
            ]
          },
          "metadata": {
            "tags": []
          },
          "execution_count": 33
        }
      ]
    },
    {
      "cell_type": "code",
      "metadata": {
        "id": "lWH83Oh12m8r"
      },
      "source": [
        "matrix_one = torch.Tensor([[1,2,3],\n",
        "                           [4,5,6]])\n",
        "matrix_two = torch.Tensor([[10,20],\n",
        "                           [30,40],\n",
        "                           [50,60]])"
      ],
      "execution_count": null,
      "outputs": []
    },
    {
      "cell_type": "code",
      "metadata": {
        "id": "HKjdTHgL3g2R",
        "outputId": "1c497370-3afc-4bbf-c581-7a4b5853637c",
        "colab": {
          "base_uri": "https://localhost:8080/"
        }
      },
      "source": [
        "matrix_mul = torch.mm(matrix_one,matrix_two)\n",
        "matrix_mul"
      ],
      "execution_count": null,
      "outputs": [
        {
          "output_type": "execute_result",
          "data": {
            "text/plain": [
              "tensor([[220., 280.],\n",
              "        [490., 640.]])"
            ]
          },
          "metadata": {
            "tags": []
          },
          "execution_count": 3
        }
      ]
    },
    {
      "cell_type": "markdown",
      "metadata": {
        "id": "D5L6usdNappK"
      },
      "source": [
        "### Conversion between PyTorch and Numpy\n",
        "\n",
        "\n",
        "*   `numpy` function convert torch Tensor to numpy array\n",
        "*   `from_numpy` function returns a torch Tensor from numpy array\n",
        "\n",
        "**But both numpy array and torch Tensor share the same underline memory.If we update numpy array,it will update torch Tensor as well.**\n",
        "\n",
        "\n"
      ]
    },
    {
      "cell_type": "code",
      "metadata": {
        "id": "NFVIhN0s3pFy"
      },
      "source": [
        "import numpy as np"
      ],
      "execution_count": null,
      "outputs": []
    },
    {
      "cell_type": "code",
      "metadata": {
        "id": "P30sPckVa8Is",
        "outputId": "d8ec0aed-a37c-41d5-f04d-9e43b50eba08",
        "colab": {
          "base_uri": "https://localhost:8080/"
        }
      },
      "source": [
        "tensor = torch.rand(4,3)\n",
        "print(type(tensor))"
      ],
      "execution_count": null,
      "outputs": [
        {
          "output_type": "stream",
          "text": [
            "<class 'torch.Tensor'>\n"
          ],
          "name": "stdout"
        }
      ]
    },
    {
      "cell_type": "markdown",
      "metadata": {
        "id": "Iqyql5IYdJag"
      },
      "source": [
        "\n",
        "\n",
        "*   convert torch Tensor to numpy\n",
        "\n"
      ]
    },
    {
      "cell_type": "code",
      "metadata": {
        "id": "Jtc28uaebBO3",
        "outputId": "da0b6a8f-1153-4491-c766-27bc0f555f66",
        "colab": {
          "base_uri": "https://localhost:8080/"
        }
      },
      "source": [
        "numpy_from_torch = tensor.numpy()\n",
        "print(type(numpy_from_torch))"
      ],
      "execution_count": null,
      "outputs": [
        {
          "output_type": "stream",
          "text": [
            "<class 'numpy.ndarray'>\n"
          ],
          "name": "stdout"
        }
      ]
    },
    {
      "cell_type": "code",
      "metadata": {
        "id": "_W5NGhojbXRF",
        "outputId": "0fbb3ee4-fb9f-4b31-aa44-739b94132f9d",
        "colab": {
          "base_uri": "https://localhost:8080/"
        }
      },
      "source": [
        "print(torch.is_tensor(tensor))\n",
        "print(torch.is_tensor(numpy_from_torch))"
      ],
      "execution_count": null,
      "outputs": [
        {
          "output_type": "stream",
          "text": [
            "True\n",
            "False\n"
          ],
          "name": "stdout"
        }
      ]
    },
    {
      "cell_type": "markdown",
      "metadata": {
        "id": "drwxZsJ9dQ-G"
      },
      "source": [
        "\n",
        "\n",
        "*    changing values of a one instance will effect to both numpy and torch Tensor\n",
        "\n"
      ]
    },
    {
      "cell_type": "code",
      "metadata": {
        "id": "YDvjtfqscFyR",
        "outputId": "14bb2f0b-f72c-4fa1-d8d6-f8d78df4963c",
        "colab": {
          "base_uri": "https://localhost:8080/"
        }
      },
      "source": [
        "numpy_from_torch"
      ],
      "execution_count": null,
      "outputs": [
        {
          "output_type": "execute_result",
          "data": {
            "text/plain": [
              "array([[0.66118073, 0.64069164, 0.90291804],\n",
              "       [0.3827008 , 0.98659307, 0.6486511 ],\n",
              "       [0.99074495, 0.18981278, 0.967396  ],\n",
              "       [0.10482919, 0.18436086, 0.8443978 ]], dtype=float32)"
            ]
          },
          "metadata": {
            "tags": []
          },
          "execution_count": 9
        }
      ]
    },
    {
      "cell_type": "code",
      "metadata": {
        "id": "OeLDJhB6ctCi"
      },
      "source": [
        "numpy_from_torch[0,0] = 100"
      ],
      "execution_count": null,
      "outputs": []
    },
    {
      "cell_type": "code",
      "metadata": {
        "id": "WUcP7l4hcwil",
        "outputId": "fcb61d45-e0c5-4a1f-ecef-bbb77f3cf8c7",
        "colab": {
          "base_uri": "https://localhost:8080/"
        }
      },
      "source": [
        "numpy_from_torch"
      ],
      "execution_count": null,
      "outputs": [
        {
          "output_type": "execute_result",
          "data": {
            "text/plain": [
              "array([[100.        ,   0.64069164,   0.90291804],\n",
              "       [  0.3827008 ,   0.98659307,   0.6486511 ],\n",
              "       [  0.99074495,   0.18981278,   0.967396  ],\n",
              "       [  0.10482919,   0.18436086,   0.8443978 ]], dtype=float32)"
            ]
          },
          "metadata": {
            "tags": []
          },
          "execution_count": 11
        }
      ]
    },
    {
      "cell_type": "code",
      "metadata": {
        "id": "Dv0Kejw4cxhp",
        "outputId": "d711b9f2-b300-4ced-9466-634c86706244",
        "colab": {
          "base_uri": "https://localhost:8080/"
        }
      },
      "source": [
        "tensor"
      ],
      "execution_count": null,
      "outputs": [
        {
          "output_type": "execute_result",
          "data": {
            "text/plain": [
              "tensor([[100.0000,   0.6407,   0.9029],\n",
              "        [  0.3827,   0.9866,   0.6487],\n",
              "        [  0.9907,   0.1898,   0.9674],\n",
              "        [  0.1048,   0.1844,   0.8444]])"
            ]
          },
          "metadata": {
            "tags": []
          },
          "execution_count": 12
        }
      ]
    },
    {
      "cell_type": "markdown",
      "metadata": {
        "id": "XoXEwFjcdw3D"
      },
      "source": [
        "\n",
        "\n",
        "* Create torch Tensor from numpy array\n",
        "\n"
      ]
    },
    {
      "cell_type": "code",
      "metadata": {
        "id": "Q90xzTZxcy-g",
        "outputId": "42d183a0-02fe-4e59-fe9c-52910301afe2",
        "colab": {
          "base_uri": "https://localhost:8080/"
        }
      },
      "source": [
        "np_array = np.array([[1,2,3],\n",
        "                     [4,5,6],\n",
        "                     [6,7,8]])\n",
        "np_array"
      ],
      "execution_count": null,
      "outputs": [
        {
          "output_type": "execute_result",
          "data": {
            "text/plain": [
              "array([[1, 2, 3],\n",
              "       [4, 5, 6],\n",
              "       [6, 7, 8]])"
            ]
          },
          "metadata": {
            "tags": []
          },
          "execution_count": 15
        }
      ]
    },
    {
      "cell_type": "code",
      "metadata": {
        "id": "jfZSvPTwd-oR",
        "outputId": "4ade9008-89cf-483b-c35e-abfe9198a130",
        "colab": {
          "base_uri": "https://localhost:8080/"
        }
      },
      "source": [
        "tensor_from_numpy = torch.from_numpy(np_array)\n",
        "tensor_from_numpy"
      ],
      "execution_count": null,
      "outputs": [
        {
          "output_type": "execute_result",
          "data": {
            "text/plain": [
              "tensor([[1, 2, 3],\n",
              "        [4, 5, 6],\n",
              "        [6, 7, 8]])"
            ]
          },
          "metadata": {
            "tags": []
          },
          "execution_count": 16
        }
      ]
    },
    {
      "cell_type": "code",
      "metadata": {
        "id": "BPSZtf4peMT3",
        "outputId": "7691388f-107f-4f96-d925-b70e6da73981",
        "colab": {
          "base_uri": "https://localhost:8080/"
        }
      },
      "source": [
        "torch.is_tensor(tensor_from_numpy)"
      ],
      "execution_count": null,
      "outputs": [
        {
          "output_type": "execute_result",
          "data": {
            "text/plain": [
              "True"
            ]
          },
          "metadata": {
            "tags": []
          },
          "execution_count": 17
        }
      ]
    },
    {
      "cell_type": "code",
      "metadata": {
        "id": "imCZtVatektH"
      },
      "source": [
        "tensor_from_numpy[1,1] = 500"
      ],
      "execution_count": null,
      "outputs": []
    },
    {
      "cell_type": "code",
      "metadata": {
        "id": "fUl5SQYRerTb",
        "outputId": "47420556-0796-4a63-db33-c35ee9c5b018",
        "colab": {
          "base_uri": "https://localhost:8080/"
        }
      },
      "source": [
        "tensor_from_numpy"
      ],
      "execution_count": null,
      "outputs": [
        {
          "output_type": "execute_result",
          "data": {
            "text/plain": [
              "tensor([[  1,   2,   3],\n",
              "        [  4, 500,   6],\n",
              "        [  6,   7,   8]])"
            ]
          },
          "metadata": {
            "tags": []
          },
          "execution_count": 19
        }
      ]
    },
    {
      "cell_type": "code",
      "metadata": {
        "id": "AxmthGnSesgQ",
        "outputId": "301f6034-2104-4e7b-a477-82061a6ea99e",
        "colab": {
          "base_uri": "https://localhost:8080/"
        }
      },
      "source": [
        "np_array"
      ],
      "execution_count": null,
      "outputs": [
        {
          "output_type": "execute_result",
          "data": {
            "text/plain": [
              "array([[  1,   2,   3],\n",
              "       [  4, 500,   6],\n",
              "       [  6,   7,   8]])"
            ]
          },
          "metadata": {
            "tags": []
          },
          "execution_count": 20
        }
      ]
    }
  ]
}