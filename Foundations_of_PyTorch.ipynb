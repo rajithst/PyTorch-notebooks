{
  "nbformat": 4,
  "nbformat_minor": 0,
  "metadata": {
    "colab": {
      "name": "Foundations of PyTorch.ipynb",
      "provenance": [],
      "toc_visible": true
    },
    "kernelspec": {
      "name": "python3",
      "display_name": "Python 3"
    }
  },
  "cells": [
    {
      "cell_type": "markdown",
      "metadata": {
        "id": "xBB3OvzxEqoT"
      },
      "source": [
        "### Import torch library and print version"
      ]
    },
    {
      "cell_type": "code",
      "metadata": {
        "id": "DqOumiBPEDY2",
        "outputId": "59398663-9a4b-41da-af7a-c9909fb36bae",
        "colab": {
          "base_uri": "https://localhost:8080/",
          "height": 34
        }
      },
      "source": [
        "import torch\n",
        "print(torch.__version__)"
      ],
      "execution_count": null,
      "outputs": [
        {
          "output_type": "stream",
          "text": [
            "1.6.0+cu101\n"
          ],
          "name": "stdout"
        }
      ]
    },
    {
      "cell_type": "markdown",
      "metadata": {
        "id": "lhEo-ZdNE7Vj"
      },
      "source": [
        "### Explore/change Default data type of torch\n",
        "\n",
        "PyTorch expect to default data type to be **float**. <br>\n",
        "**PyTorch support total 10 CPU and GPU tensor types.**\n",
        "https://pytorch.org/docs/stable/tensors.html"
      ]
    },
    {
      "cell_type": "code",
      "metadata": {
        "id": "pNRy1WO3EH6P",
        "outputId": "baab011e-70e1-4a34-be3e-6c3239d43c27",
        "colab": {
          "base_uri": "https://localhost:8080/",
          "height": 34
        }
      },
      "source": [
        "torch.get_default_dtype()"
      ],
      "execution_count": null,
      "outputs": [
        {
          "output_type": "execute_result",
          "data": {
            "text/plain": [
              "torch.float32"
            ]
          },
          "metadata": {
            "tags": []
          },
          "execution_count": 2
        }
      ]
    },
    {
      "cell_type": "code",
      "metadata": {
        "id": "dM8uWsvSE6ik",
        "outputId": "7d1085ce-022b-4516-ef95-a219891b2c64",
        "colab": {
          "base_uri": "https://localhost:8080/",
          "height": 34
        }
      },
      "source": [
        "torch.set_default_dtype(torch.float64)\n",
        "torch.get_default_dtype()"
      ],
      "execution_count": null,
      "outputs": [
        {
          "output_type": "execute_result",
          "data": {
            "text/plain": [
              "torch.float64"
            ]
          },
          "metadata": {
            "tags": []
          },
          "execution_count": 3
        }
      ]
    },
    {
      "cell_type": "markdown",
      "metadata": {
        "id": "qq4VrOe8H7tj"
      },
      "source": [
        "### Initialize Tensors <br>\n",
        "\n",
        "*  When we initialize a tensor,default data type will be data type that we set by `set_default_dtype` function\n",
        "\n"
      ]
    },
    {
      "cell_type": "code",
      "metadata": {
        "id": "-Lg1F5JUFJf0",
        "outputId": "281fa470-2da0-4fe9-85d7-5895aa623009",
        "colab": {
          "base_uri": "https://localhost:8080/",
          "height": 51
        }
      },
      "source": [
        "tensor_arr = torch.Tensor([[1,2,3],[4,5,6]])\n",
        "tensor_arr"
      ],
      "execution_count": null,
      "outputs": [
        {
          "output_type": "execute_result",
          "data": {
            "text/plain": [
              "tensor([[1., 2., 3.],\n",
              "        [4., 5., 6.]])"
            ]
          },
          "metadata": {
            "tags": []
          },
          "execution_count": 5
        }
      ]
    },
    {
      "cell_type": "markdown",
      "metadata": {
        "id": "7vOfIROGLIkx"
      },
      "source": [
        "\n",
        "\n",
        "*   Specify Tensor Type - we can specify required type when initialize the tensor using `type` function\n",
        "\n"
      ]
    },
    {
      "cell_type": "code",
      "metadata": {
        "id": "uYwFiCkzLPFG",
        "outputId": "b94c2d10-626b-4cd0-b5a5-c5aaf1ce7f18",
        "colab": {
          "base_uri": "https://localhost:8080/",
          "height": 34
        }
      },
      "source": [
        "tensor_with_type = torch.Tensor([5,3]).type(torch.IntTensor)\n",
        "tensor_with_type"
      ],
      "execution_count": null,
      "outputs": [
        {
          "output_type": "execute_result",
          "data": {
            "text/plain": [
              "tensor([5, 3], dtype=torch.int32)"
            ]
          },
          "metadata": {
            "tags": []
          },
          "execution_count": 9
        }
      ]
    },
    {
      "cell_type": "markdown",
      "metadata": {
        "id": "hQCY4CdoM4DZ"
      },
      "source": [
        "\n",
        "\n",
        "*   `ShortTensor` - Initialize 16bit Int tensors\n",
        "\n"
      ]
    },
    {
      "cell_type": "code",
      "metadata": {
        "id": "uKLq--5BNE1w",
        "outputId": "eb777554-56ac-40f4-eb57-535cfa2be158",
        "colab": {
          "base_uri": "https://localhost:8080/",
          "height": 34
        }
      },
      "source": [
        "tensor_short = torch.ShortTensor([1.0,2.0,3.0]).type(torch.half)\n",
        "tensor_short"
      ],
      "execution_count": null,
      "outputs": [
        {
          "output_type": "execute_result",
          "data": {
            "text/plain": [
              "tensor([1., 2., 3.], dtype=torch.float16)"
            ]
          },
          "metadata": {
            "tags": []
          },
          "execution_count": 12
        }
      ]
    },
    {
      "cell_type": "markdown",
      "metadata": {
        "id": "QlZDkmb1I0jw"
      },
      "source": [
        "\n",
        "\n",
        "*   `is_tensor` - check for **Tensor** instance \n",
        "*   `numel` - get number of elements of a tensor\n",
        "\n",
        "\n"
      ]
    },
    {
      "cell_type": "code",
      "metadata": {
        "id": "TlZFP6BTIJfm",
        "outputId": "6931225b-7a51-4884-9e49-7922a14f05d2",
        "colab": {
          "base_uri": "https://localhost:8080/",
          "height": 51
        }
      },
      "source": [
        "print(torch.is_tensor(tensor_arr))\n",
        "print(torch.numel(tensor_arr))"
      ],
      "execution_count": null,
      "outputs": [
        {
          "output_type": "stream",
          "text": [
            "True\n",
            "6\n"
          ],
          "name": "stdout"
        }
      ]
    },
    {
      "cell_type": "markdown",
      "metadata": {
        "id": "mdIJynpcJ-Qv"
      },
      "source": [
        "#### Uninitialize Tensor\n",
        "when you specify a Tensor object by given shape without values,PyTorch will allocate the memory for the tensor without intial values\n",
        "\n"
      ]
    },
    {
      "cell_type": "code",
      "metadata": {
        "id": "a_inr9yWJifu",
        "outputId": "7337df1d-b3b0-40ca-d300-56c3fce3643d",
        "colab": {
          "base_uri": "https://localhost:8080/",
          "height": 51
        }
      },
      "source": [
        "tensor_uninitialize = torch.Tensor(2,2)\n",
        "tensor_uninitialize"
      ],
      "execution_count": null,
      "outputs": [
        {
          "output_type": "execute_result",
          "data": {
            "text/plain": [
              "tensor([[4.1122e-316, 2.1008e-312],\n",
              "        [9.7612e-313, 2.1432e-312]])"
            ]
          },
          "metadata": {
            "tags": []
          },
          "execution_count": 7
        }
      ]
    },
    {
      "cell_type": "markdown",
      "metadata": {
        "id": "Iv-VekGDKwMJ"
      },
      "source": [
        "#### Random initialization\n",
        "Initialize a tensor with random values"
      ]
    },
    {
      "cell_type": "code",
      "metadata": {
        "id": "9a99o0boKm5e",
        "outputId": "eb8aa712-ce1f-4856-e310-088358fce624",
        "colab": {
          "base_uri": "https://localhost:8080/",
          "height": 51
        }
      },
      "source": [
        "tensor_random = torch.rand(2,2)\n",
        "tensor_random"
      ],
      "execution_count": null,
      "outputs": [
        {
          "output_type": "execute_result",
          "data": {
            "text/plain": [
              "tensor([[0.4450, 0.9153],\n",
              "        [0.4897, 0.1905]])"
            ]
          },
          "metadata": {
            "tags": []
          },
          "execution_count": 8
        }
      ]
    },
    {
      "cell_type": "markdown",
      "metadata": {
        "id": "Egh_d8ewOVJT"
      },
      "source": [
        "#### Initialize Tensor with a specific value\n",
        "\n",
        "\n",
        "*   `torch.full` - create tensor for given shape with `fill_value` argument\n",
        "\n"
      ]
    },
    {
      "cell_type": "code",
      "metadata": {
        "id": "AZIjIq3ZK9o6",
        "outputId": "2cda2b14-f71f-4680-a270-6ee2ac4d26d3",
        "colab": {
          "base_uri": "https://localhost:8080/",
          "height": 51
        }
      },
      "source": [
        "tensor_fill = torch.full((2,6),fill_value=10,dtype=torch.float32)\n",
        "tensor_fill"
      ],
      "execution_count": null,
      "outputs": [
        {
          "output_type": "execute_result",
          "data": {
            "text/plain": [
              "tensor([[10., 10., 10., 10., 10., 10.],\n",
              "        [10., 10., 10., 10., 10., 10.]], dtype=torch.float32)"
            ]
          },
          "metadata": {
            "tags": []
          },
          "execution_count": 14
        }
      ]
    },
    {
      "cell_type": "markdown",
      "metadata": {
        "id": "nWiTLpSWPQVV"
      },
      "source": [
        "\n",
        "\n",
        "*   `torch.ones` - create tensor with value 1\n",
        "*   `torch.zeros` - create tensor with value 0\n",
        "\n",
        "\n",
        "\n",
        "\n",
        "\n"
      ]
    },
    {
      "cell_type": "code",
      "metadata": {
        "id": "2odrkyi3O3_9",
        "outputId": "eb93dbc6-1a22-407a-bb9c-01b89cace673",
        "colab": {
          "base_uri": "https://localhost:8080/",
          "height": 51
        }
      },
      "source": [
        "tensor_ones = torch.ones(size=(2,4))\n",
        "tensor_ones"
      ],
      "execution_count": null,
      "outputs": [
        {
          "output_type": "execute_result",
          "data": {
            "text/plain": [
              "tensor([[1., 1., 1., 1.],\n",
              "        [1., 1., 1., 1.]])"
            ]
          },
          "metadata": {
            "tags": []
          },
          "execution_count": 18
        }
      ]
    },
    {
      "cell_type": "code",
      "metadata": {
        "id": "SDTFWEUZP0Io",
        "outputId": "a287c39c-8e41-41e4-aa02-37e96d82d631",
        "colab": {
          "base_uri": "https://localhost:8080/",
          "height": 102
        }
      },
      "source": [
        "tensor_zeros = torch.zeros(size=(5,5))\n",
        "tensor_zeros"
      ],
      "execution_count": null,
      "outputs": [
        {
          "output_type": "execute_result",
          "data": {
            "text/plain": [
              "tensor([[0., 0., 0., 0., 0.],\n",
              "        [0., 0., 0., 0., 0.],\n",
              "        [0., 0., 0., 0., 0.],\n",
              "        [0., 0., 0., 0., 0.],\n",
              "        [0., 0., 0., 0., 0.]])"
            ]
          },
          "metadata": {
            "tags": []
          },
          "execution_count": 21
        }
      ]
    },
    {
      "cell_type": "markdown",
      "metadata": {
        "id": "yeSQGL6BRNE9"
      },
      "source": [
        "\n",
        "\n",
        "*   `torch.zeros_like` - Initialize zeros tensor with same shape of an another tensor\n",
        "*   `torch.ones_like` - Initialize ones tensor with same shape of an another tensor\n",
        "\n"
      ]
    },
    {
      "cell_type": "code",
      "metadata": {
        "id": "ng1OZKo2QER3",
        "outputId": "75470702-e9bd-48fa-f54d-06179c26200a",
        "colab": {
          "base_uri": "https://localhost:8080/",
          "height": 51
        }
      },
      "source": [
        "zeros_like_of_ones_shape = torch.zeros_like(tensor_ones)\n",
        "zeros_like_of_ones_shape"
      ],
      "execution_count": null,
      "outputs": [
        {
          "output_type": "execute_result",
          "data": {
            "text/plain": [
              "tensor([[0., 0., 0., 0.],\n",
              "        [0., 0., 0., 0.]])"
            ]
          },
          "metadata": {
            "tags": []
          },
          "execution_count": 23
        }
      ]
    },
    {
      "cell_type": "code",
      "metadata": {
        "id": "8YnOmeSDRoCh",
        "outputId": "8f40cb78-b089-44b6-f9a5-a563d62b5e94",
        "colab": {
          "base_uri": "https://localhost:8080/",
          "height": 102
        }
      },
      "source": [
        "ones_like_of_zeros_shape = torch.ones_like(tensor_zeros)\n",
        "ones_like_of_zeros_shape"
      ],
      "execution_count": null,
      "outputs": [
        {
          "output_type": "execute_result",
          "data": {
            "text/plain": [
              "tensor([[1., 1., 1., 1., 1.],\n",
              "        [1., 1., 1., 1., 1.],\n",
              "        [1., 1., 1., 1., 1.],\n",
              "        [1., 1., 1., 1., 1.],\n",
              "        [1., 1., 1., 1., 1.]])"
            ]
          },
          "metadata": {
            "tags": []
          },
          "execution_count": 25
        }
      ]
    },
    {
      "cell_type": "markdown",
      "metadata": {
        "id": "wk2smjRpSL92"
      },
      "source": [
        "\n",
        "\n",
        "*   `torch.eye` - tensor with ones on the diagonal and zeros elsewhere\n",
        "\n"
      ]
    },
    {
      "cell_type": "code",
      "metadata": {
        "id": "GZcrXfwrRwOq",
        "outputId": "a8316705-2f88-4276-b27e-c6760e5ea47d",
        "colab": {
          "base_uri": "https://localhost:8080/",
          "height": 102
        }
      },
      "source": [
        "tensor_eye = torch.eye(5)\n",
        "tensor_eye"
      ],
      "execution_count": null,
      "outputs": [
        {
          "output_type": "execute_result",
          "data": {
            "text/plain": [
              "tensor([[1., 0., 0., 0., 0.],\n",
              "        [0., 1., 0., 0., 0.],\n",
              "        [0., 0., 1., 0., 0.],\n",
              "        [0., 0., 0., 1., 0.],\n",
              "        [0., 0., 0., 0., 1.]])"
            ]
          },
          "metadata": {
            "tags": []
          },
          "execution_count": 2
        }
      ]
    },
    {
      "cell_type": "markdown",
      "metadata": {
        "id": "UsmxbRYb6xCn"
      },
      "source": [
        "\n",
        "\n",
        "*   `torch.nonzero` - find non zero indicies of a given tensor\n",
        "\n"
      ]
    },
    {
      "cell_type": "code",
      "metadata": {
        "id": "OeKRuTjiScL0",
        "outputId": "10d8755b-de19-442f-b074-9aab9b6b5f6d",
        "colab": {
          "base_uri": "https://localhost:8080/",
          "height": 102
        }
      },
      "source": [
        "non_zero = torch.nonzero(tensor_eye,as_tuple=False)\n",
        "non_zero"
      ],
      "execution_count": null,
      "outputs": [
        {
          "output_type": "execute_result",
          "data": {
            "text/plain": [
              "tensor([[0, 0],\n",
              "        [1, 1],\n",
              "        [2, 2],\n",
              "        [3, 3],\n",
              "        [4, 4]])"
            ]
          },
          "metadata": {
            "tags": []
          },
          "execution_count": 6
        }
      ]
    },
    {
      "cell_type": "markdown",
      "metadata": {
        "id": "0Da4kh8k9HjO"
      },
      "source": [
        "\n",
        "\n",
        "*   sparse tensor\n",
        "\n"
      ]
    },
    {
      "cell_type": "markdown",
      "metadata": {
        "id": "2JuaPOSC9R3p"
      },
      "source": [
        "### Simple Tensor Operations"
      ]
    },
    {
      "cell_type": "code",
      "metadata": {
        "id": "CK7BA-KH9VrF",
        "outputId": "87d6be48-fd9c-44f2-8c12-b6157580b162",
        "colab": {
          "base_uri": "https://localhost:8080/",
          "height": 51
        }
      },
      "source": [
        "init_tensor = torch.rand(2,3)\n",
        "init_tensor"
      ],
      "execution_count": null,
      "outputs": [
        {
          "output_type": "execute_result",
          "data": {
            "text/plain": [
              "tensor([[0.1584, 0.7537, 0.9658],\n",
              "        [0.3346, 0.5583, 0.7014]])"
            ]
          },
          "metadata": {
            "tags": []
          },
          "execution_count": 13
        }
      ]
    },
    {
      "cell_type": "markdown",
      "metadata": {
        "id": "IQncfMLEK6bE"
      },
      "source": [
        "\n",
        "\n",
        "*   Operations that modify the tensor in-place have an \"_\" suffix \n",
        "\n"
      ]
    },
    {
      "cell_type": "code",
      "metadata": {
        "id": "oJ3fe0_zvY-3"
      },
      "source": [
        ""
      ],
      "execution_count": null,
      "outputs": []
    }
  ]
}